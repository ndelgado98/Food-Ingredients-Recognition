{
 "cells": [
  {
   "cell_type": "code",
   "execution_count": null,
   "metadata": {},
   "outputs": [],
   "source": [
    "import pandas as pd\n",
    "from bs4 import BeautifulSoup\n",
    "import numpy as np\n",
    "import requests\n",
    "import cv2\n",
    "import PIL.Image\n",
    "import urllib"
   ]
  },
  {
   "cell_type": "code",
   "execution_count": null,
   "metadata": {
    "scrolled": true
   },
   "outputs": [],
   "source": [
    "br = pd.read_csv('./data/broccoli.csv')\n",
    "ag = pd.read_csv('./data/asparagus.csv')\n",
    "ap = pd.read_csv('./data/apple.csv')\n",
    "au = pd.read_csv('./data/aubergine.csv')\n",
    "ba = pd.read_csv('./data/bacon.csv')\n",
    "bl = pd.read_csv('./data/black_eyed_peas.csv')\n",
    "be = pd.read_csv('./data/beetroot.csv')\n",
    "bb = pd.read_csv('./data/black_beans.csv')\n",
    "bs = pd.read_csv('./data/brussel_sprouts.csv')\n",
    "bu = pd.read_csv('./data/butternut_squash.csv')\n",
    "ca = pd.read_csv('./data/cabbage.csv')\n",
    "cn = pd.read_csv('./data/cannelloni.csv')\n",
    "cr = pd.read_csv('./data/carrot.csv')\n",
    "cu = pd.read_csv('./data/cauliflower.csv')\n",
    "cb = pd.read_csv('./data/chicken_breast.csv')\n",
    "cw = pd.read_csv('./data/chicken_whole.csv')\n",
    "ck = pd.read_csv('./data/chickpeas.csv')\n",
    "cy = pd.read_csv('./data/cucumber.csv')\n",
    "eb = pd.read_csv('./data/eggs_brown.csv')\n",
    "ew = pd.read_csv('./data/eggs_white.csv')\n",
    "pc = pd.read_csv('./data/fresh_pork_chop.csv')\n",
    "rb = pd.read_csv('./data/fresh_raw_beef.csv')\n",
    "gp = pd.read_csv('./data/green_pepper.csv')\n",
    "gb = pd.read_csv('./data/ground_beef.csv')\n",
    "la = pd.read_csv('./data/lamb.csv')\n",
    "ls = pd.read_csv('./data/lasagne.csv')\n",
    "le = pd.read_csv('./data/lentils.csv')\n",
    "xx = pd.read_csv('./data/lettuce.csv')\n",
    "ma = pd.read_csv('./data/mackerel.csv')\n",
    "mu = pd.read_csv('./data/mushrooms.csv')\n",
    "ms = pd.read_csv('./data/mussels.csv')\n",
    "on = pd.read_csv('./data/onions.csv')\n",
    "oy = pd.read_csv('./data/oyster.csv')\n",
    "pe = pd.read_csv('./data/penne.csv')\n",
    "pb = pd.read_csv('./data/pork_belly.csv')\n",
    "pr = pd.read_csv('./data/pork_ribs.csv')\n",
    "ra = pd.read_csv('./data/ravioli.csv')\n",
    "re = pd.read_csv('./data/red_beans.csv')\n",
    "rp = pd.read_csv('./data/red_pepper.csv')\n",
    "sa = pd.read_csv('./data/salmon.csv')\n",
    "sr = pd.read_csv('./data/sardines.csv')\n",
    "sh = pd.read_csv('./data/shrimps.csv')\n",
    "so = pd.read_csv('./data/soybeans.csv')\n",
    "sp = pd.read_csv('./data/spaghetti.csv')\n",
    "sw = pd.read_csv('./data/sweet_potato.csv')\n",
    "to = pd.read_csv('./data/tomato.csv')\n",
    "tr = pd.read_csv('./data/trout.csv')\n",
    "tu = pd.read_csv('./data/tuna.csv')\n",
    "wp = pd.read_csv('./data/white_potato.csv')\n",
    "wr = pd.read_csv('./data/white_rice.csv')\n",
    "zu = pd.read_csv('./data/zucchini.csv')"
   ]
  },
  {
   "cell_type": "code",
   "execution_count": null,
   "metadata": {},
   "outputs": [],
   "source": [
    "df = lt['image_results.image'][2]\n",
    "print(df)"
   ]
  },
  {
   "cell_type": "code",
   "execution_count": null,
   "metadata": {},
   "outputs": [],
   "source": [
    "bro = br['image_results.image']\n",
    "asp = ag['image_results.image'] \n",
    "apl = ap['image_results.image']\n",
    "aug = au['image_results.image']\n",
    "bac = ba['image_results.image']\n",
    "bla = bl['image_results.image']\n",
    "bel = be['image_results.image']\n",
    "bbb = bb['image_results.image']\n",
    "bss = bs['image_results.image']\n",
    "bur = bu['image_results.image']\n",
    "cau = ca['image_results.image']\n",
    "can = cn['image_results.image']\n",
    "cre = cr['image_results.image']\n",
    "cuc = cu['image_results.image']\n",
    "ceb = cb['image_results.image']\n",
    "caw = cw['image_results.image']\n",
    "chk = ck['image_results.image']\n",
    "chu = cy['image_results.image']\n",
    "ewb = eb['image_results.image']\n",
    "erw = ew['image_results.image']\n",
    "prc = pc['image_results.image']\n",
    "rbc = rb['image_results.image']\n",
    "gpe = gp['image_results.image']\n",
    "gbe = gb['image_results.image']\n",
    "las = la['image_results.image']\n",
    "lgs = ls['image_results.image']\n",
    "ley = le['image_results.image']\n",
    "teu = xx['image_results.image']\n",
    "mac = ma['image_results.image']\n",
    "mus = mu['image_results.image']\n",
    "mue = ms['image_results.image']\n",
    "oni = on['image_results.image']\n",
    "oys = oy['image_results.image']\n",
    "pen = pe['image_results.image']\n",
    "por = pb['image_results.image']\n",
    "pok = pr['image_results.image']\n",
    "rav = ra['image_results.image']\n",
    "rev = re['image_results.image']\n",
    "rep = rp['image_results.image']\n",
    "sal = sa['image_results.image']\n",
    "sir = sr['image_results.image']\n",
    "shr = sh['image_results.image']\n",
    "soy = so['image_results.image']\n",
    "spa = sp['image_results.image']\n",
    "swe = sw['image_results.image']\n",
    "tom = to['image_results.image']\n",
    "tro = tr['image_results.image']\n",
    "tun = tu['image_results.image']\n",
    "whp = wp['image_results.image']\n",
    "whr = wr['image_results.image']\n",
    "zuc = zu['image_results.image']"
   ]
  },
  {
   "cell_type": "code",
   "execution_count": null,
   "metadata": {},
   "outputs": [],
   "source": [
    "img_rows, img_cols = 32, 32 \n",
    "input_shape = (img_rows, img_cols, 3)\n",
    "\n",
    "def url_to_image(dw):\n",
    "    resp = urllib.request.urlopen(dw)\n",
    "    image = np.asarray(bytearray(resp.read()), dtype=\"uint8\")\n",
    "    image = cv2.imdecode(image, cv2.IMREAD_COLOR)\n",
    "    return image\n",
    "n_of_training_images=100"
   ]
  },
  {
   "cell_type": "code",
   "execution_count": null,
   "metadata": {},
   "outputs": [],
   "source": [
    "\n",
    "for progress in range(n_of_training_images):\n",
    "     if not bro[progress] == None:\n",
    "      try:\n",
    "        I = url_to_image(bro[progress])\n",
    "        if (len(I.shape))==3: \n",
    "          save_path = '/Users/nd/Desktop/databases_practice/pract_upload/train/broccoli/img'+str(progress)+'.jpg'\n",
    "          cv2.imwrite(save_path,I)\n",
    "      except:\n",
    "        None"
   ]
  },
  {
   "cell_type": "code",
   "execution_count": null,
   "metadata": {},
   "outputs": [],
   "source": [
    "for progress in range(n_of_training_images):\n",
    "     if not apl[progress] == None:\n",
    "      try:\n",
    "        I = url_to_image(apl[progress])\n",
    "        if (len(I.shape))==3: \n",
    "          save_path = '/Users/nd/Desktop/databases_practice/pract_upload/train/apple/img'+str(progress)+'.jpg'\n",
    "          cv2.imwrite(save_path,I)\n",
    "      except:\n",
    "        None\n"
   ]
  },
  {
   "cell_type": "code",
   "execution_count": null,
   "metadata": {},
   "outputs": [],
   "source": [
    "\n",
    "for progress in range(n_of_training_images):\n",
    "     if not aug[progress] == None:\n",
    "      try:\n",
    "        I = url_to_image(aug[progress])\n",
    "        if (len(I.shape))==3: \n",
    "          save_path = '/Users/nd/Desktop/databases_practice/pract_upload/train/aubergine/img'+str(progress)+'.jpg'\n",
    "          cv2.imwrite(save_path,I)\n",
    "      except:\n",
    "        None\n",
    "        "
   ]
  },
  {
   "cell_type": "code",
   "execution_count": null,
   "metadata": {},
   "outputs": [],
   "source": [
    "for progress in range(n_of_training_images):\n",
    "     if not asp[progress] == None:\n",
    "      try:\n",
    "        I = url_to_image(asp[progress])\n",
    "        if (len(I.shape))==3: \n",
    "          save_path = '/Users/nd/Desktop/databases_practice/pract_upload/train/asparagus/img'+str(progress)+'.jpg'\n",
    "          cv2.imwrite(save_path,I)\n",
    "      except:\n",
    "        None\n",
    "        "
   ]
  },
  {
   "cell_type": "code",
   "execution_count": null,
   "metadata": {},
   "outputs": [],
   "source": [
    "for progress in range(n_of_training_images):\n",
    "     if not bac[progress] == None:\n",
    "      try:\n",
    "        I = url_to_image(bac[progress])\n",
    "        if (len(I.shape))==3: \n",
    "          save_path = '/Users/nd/Desktop/databases_practice/pract_upload/train/bacon/img'+str(progress)+'.jpg'\n",
    "          cv2.imwrite(save_path,I)\n",
    "      except:\n",
    "        None\n"
   ]
  },
  {
   "cell_type": "code",
   "execution_count": null,
   "metadata": {},
   "outputs": [],
   "source": [
    "      \n",
    "for progress in range(n_of_training_images):\n",
    "     if not bla[progress] == None:\n",
    "      try:\n",
    "        I = url_to_image(bla[progress])\n",
    "        if (len(I.shape))==3: \n",
    "          save_path = '/Users/nd/Desktop/databases_practice/pract_upload/train/black_eyed_peas/img'+str(progress)+'.jpg'\n",
    "          cv2.imwrite(save_path,I)\n",
    "      except:\n",
    "        None\n",
    "    "
   ]
  },
  {
   "cell_type": "code",
   "execution_count": null,
   "metadata": {},
   "outputs": [],
   "source": [
    "  \n",
    "for progress in range(n_of_training_images):\n",
    "     if not bel[progress] == None:\n",
    "      try:\n",
    "        I = url_to_image(bel[progress])\n",
    "        if (len(I.shape))==3: \n",
    "          save_path = '/Users/nd/Desktop/databases_practice/pract_upload/train/beetroot/img'+str(progress)+'.jpg'\n",
    "          cv2.imwrite(save_path,I)\n",
    "      except:\n",
    "        None"
   ]
  },
  {
   "cell_type": "code",
   "execution_count": null,
   "metadata": {},
   "outputs": [],
   "source": [
    "       \n",
    "for progress in range(n_of_training_images):\n",
    "     if not bbb[progress] == None:\n",
    "      try:\n",
    "        I = url_to_image(bbb[progress])\n",
    "        if (len(I.shape))==3: \n",
    "          save_path = '/Users/nd/Desktop/databases_practice/pract_upload/train/black_beans/img'+str(progress)+'.jpg'\n",
    "          cv2.imwrite(save_path,I)\n",
    "      except:\n",
    "        None"
   ]
  },
  {
   "cell_type": "code",
   "execution_count": null,
   "metadata": {},
   "outputs": [],
   "source": [
    "for progress in range(n_of_training_images):\n",
    "     if not bss[progress] == None:\n",
    "      try:\n",
    "        I = url_to_image(bss[progress])\n",
    "        if (len(I.shape))==3: \n",
    "          save_path = '/Users/nd/Desktop/databases_practice/pract_upload/train/brussel_sprouts/img'+str(progress)+'.jpg'\n",
    "          cv2.imwrite(save_path,I)\n",
    "      except:\n",
    "        None\n",
    "  "
   ]
  },
  {
   "cell_type": "code",
   "execution_count": null,
   "metadata": {},
   "outputs": [],
   "source": [
    "for progress in range(n_of_training_images):\n",
    "     if not bur[progress] == None:\n",
    "      try:\n",
    "        I = url_to_image(bur[progress])\n",
    "        if (len(I.shape))==3: \n",
    "          save_path = '/Users/nd/Desktop/databases_practice/pract_upload/train/butternut_squash/img'+str(progress)+'.jpg'\n",
    "          cv2.imwrite(save_path,I)\n",
    "      except:\n",
    "        None\n",
    "        "
   ]
  },
  {
   "cell_type": "code",
   "execution_count": null,
   "metadata": {},
   "outputs": [],
   "source": [
    "for progress in range(n_of_training_images):\n",
    "     if not cau[progress] == None:\n",
    "      try:\n",
    "        I = url_to_image(cau[progress])\n",
    "        if (len(I.shape))==3: \n",
    "          save_path = '/Users/nd/Desktop/databases_practice/pract_upload/train/cabbage/img'+str(progress)+'.jpg'\n",
    "          cv2.imwrite(save_path,I)\n",
    "      except:\n",
    "        None\n"
   ]
  },
  {
   "cell_type": "code",
   "execution_count": null,
   "metadata": {},
   "outputs": [],
   "source": [
    "       \n",
    "for progress in range(n_of_training_images):\n",
    "     if not can[progress] == None:\n",
    "      try:\n",
    "        I = url_to_image(can[progress])\n",
    "        if (len(I.shape))==3: \n",
    "          save_path = '/Users/nd/Desktop/databases_practice/pract_upload/train/cannelloni/img'+str(progress)+'.jpg'\n",
    "          cv2.imwrite(save_path,I)\n",
    "      except:\n",
    "        None\n",
    "        "
   ]
  },
  {
   "cell_type": "code",
   "execution_count": null,
   "metadata": {},
   "outputs": [],
   "source": [
    "       \n",
    "for progress in range(n_of_training_images):\n",
    "     if not cre[progress] == None:\n",
    "      try:\n",
    "        I = url_to_image(cre[progress])\n",
    "        if (len(I.shape))==3: \n",
    "          save_path = '/Users/nd/Desktop/databases_practice/pract_upload/train/carrot/img'+str(progress)+'.jpg'\n",
    "          cv2.imwrite(save_path,I)\n",
    "      except:\n",
    "        None\n",
    "        "
   ]
  },
  {
   "cell_type": "code",
   "execution_count": null,
   "metadata": {},
   "outputs": [],
   "source": [
    "for progress in range(n_of_training_images):\n",
    "     if not cuc[progress] == None:\n",
    "      try:\n",
    "        I = url_to_image(cuc[progress])\n",
    "        if (len(I.shape))==3: \n",
    "          save_path = '/Users/nd/Desktop/databases_practice/pract_upload/train/cauliflower/img'+str(progress)+'.jpg'\n",
    "          cv2.imwrite(save_path,I)\n",
    "      except:\n",
    "        None\n",
    "        "
   ]
  },
  {
   "cell_type": "code",
   "execution_count": null,
   "metadata": {},
   "outputs": [],
   "source": [
    "for progress in range(n_of_training_images):\n",
    "     if not ceb[progress] == None:\n",
    "      try:\n",
    "        I = url_to_image(ceb[progress])\n",
    "        if (len(I.shape))==3: \n",
    "          save_path = '/Users/nd/Desktop/databases_practice/pract_upload/train/chicken_breast/img'+str(progress)+'.jpg'\n",
    "          cv2.imwrite(save_path,I)\n",
    "      except:\n",
    "        None\n"
   ]
  },
  {
   "cell_type": "code",
   "execution_count": null,
   "metadata": {},
   "outputs": [],
   "source": [
    "        \n",
    "for progress in range(n_of_training_images):\n",
    "     if not caw[progress] == None:\n",
    "      try:\n",
    "        I = url_to_image(caw[progress])\n",
    "        if (len(I.shape))==3: \n",
    "          save_path = '/Users/nd/Desktop/databases_practice/pract_upload/train/chicken_whole/img'+str(progress)+'.jpg'\n",
    "          cv2.imwrite(save_path,I)\n",
    "      except:\n",
    "        None\n",
    "        "
   ]
  },
  {
   "cell_type": "code",
   "execution_count": null,
   "metadata": {},
   "outputs": [],
   "source": [
    "        \n",
    "for progress in range(n_of_training_images):\n",
    "     if not chk[progress] == None:\n",
    "      try:\n",
    "        I = url_to_image(chk[progress])\n",
    "        if (len(I.shape))==3: \n",
    "          save_path = '/Users/nd/Desktop/databases_practice/pract_upload/train/chickpeas/img'+str(progress)+'.jpg'\n",
    "          cv2.imwrite(save_path,I)\n",
    "      except:\n",
    "        None"
   ]
  },
  {
   "cell_type": "code",
   "execution_count": null,
   "metadata": {},
   "outputs": [],
   "source": [
    "        \n",
    "for progress in range(n_of_training_images):\n",
    "     if not chu[progress] == None:\n",
    "      try:\n",
    "        I = url_to_image(chu[progress])\n",
    "        if (len(I.shape))==3: \n",
    "          save_path = '/Users/nd/Desktop/databases_practice/pract_upload/train/cucumber/img'+str(progress)+'.jpg'\n",
    "          cv2.imwrite(save_path,I)\n",
    "      except:\n",
    "        None\n",
    "    "
   ]
  },
  {
   "cell_type": "code",
   "execution_count": null,
   "metadata": {},
   "outputs": [],
   "source": [
    "   \n",
    "for progress in range(n_of_training_images):\n",
    "     if not ewb[progress] == None:\n",
    "      try:\n",
    "        I = url_to_image(ewb[progress])\n",
    "        if (len(I.shape))==3: \n",
    "          save_path = '/Users/nd/Desktop/databases_practice/pract_upload/train/eggs_brown/img'+str(progress)+'.jpg'\n",
    "          cv2.imwrite(save_path,I)\n",
    "      except:\n",
    "        None\n",
    "        "
   ]
  },
  {
   "cell_type": "code",
   "execution_count": null,
   "metadata": {},
   "outputs": [],
   "source": [
    "for progress in range(n_of_training_images):\n",
    "     if not erw[progress] == None:\n",
    "      try:\n",
    "        I = url_to_image(erw[progress])\n",
    "        if (len(I.shape))==3: \n",
    "          save_path = '/Users/nd/Desktop/databases_practice/pract_upload/train/eggs_white/img'+str(progress)+'.jpg'\n",
    "          cv2.imwrite(save_path,I)\n",
    "      except:\n",
    "        None\n",
    "        "
   ]
  },
  {
   "cell_type": "code",
   "execution_count": null,
   "metadata": {},
   "outputs": [],
   "source": [
    "for progress in range(n_of_training_images):\n",
    "     if not prc[progress] == None:\n",
    "      try:\n",
    "        I = url_to_image(prc[progress])\n",
    "        if (len(I.shape))==3: \n",
    "          save_path = '/Users/nd/Desktop/databases_practice/pract_upload/train/fresh_pork_chop/img'+str(progress)+'.jpg'\n",
    "          cv2.imwrite(save_path,I)\n",
    "      except:\n",
    "        None\n",
    "        "
   ]
  },
  {
   "cell_type": "code",
   "execution_count": null,
   "metadata": {},
   "outputs": [],
   "source": [
    "for progress in range(n_of_training_images):\n",
    "     if not rbc[progress] == None:\n",
    "      try:\n",
    "        I = url_to_image(rbc[progress])\n",
    "        if (len(I.shape))==3: \n",
    "          save_path = '/Users/nd/Desktop/databases_practice/pract_upload/train/fresh_raw_beef/img'+str(progress)+'.jpg'\n",
    "          cv2.imwrite(save_path,I)\n",
    "      except:\n",
    "        None\n"
   ]
  },
  {
   "cell_type": "code",
   "execution_count": null,
   "metadata": {},
   "outputs": [],
   "source": [
    "      \n",
    "for progress in range(n_of_training_images):\n",
    "     if not gpe[progress] == None:\n",
    "      try:\n",
    "        I = url_to_image(gpe[progress])\n",
    "        if (len(I.shape))==3: \n",
    "          save_path = '/Users/nd/Desktop/databases_practice/pract_upload/train/green_pepper/img'+str(progress)+'.jpg'\n",
    "          cv2.imwrite(save_path,I)\n",
    "      except:\n",
    "        None"
   ]
  },
  {
   "cell_type": "code",
   "execution_count": null,
   "metadata": {},
   "outputs": [],
   "source": [
    "       \n",
    "for progress in range(n_of_training_images):\n",
    "     if not gbe[progress] == None:\n",
    "      try:\n",
    "        I = url_to_image(gbe[progress])\n",
    "        if (len(I.shape))==3: \n",
    "          save_path = '/Users/nd/Desktop/databases_practice/pract_upload/train/ground_beef/img'+str(progress)+'.jpg'\n",
    "          cv2.imwrite(save_path,I)\n",
    "      except:\n",
    "        None\n",
    "        "
   ]
  },
  {
   "cell_type": "code",
   "execution_count": null,
   "metadata": {},
   "outputs": [],
   "source": [
    "for progress in range(n_of_training_images):\n",
    "     if not las[progress] == None:\n",
    "      try:\n",
    "        I = url_to_image(las[progress])\n",
    "        if (len(I.shape))==3: \n",
    "          save_path = '/Users/nd/Desktop/databases_practice/pract_upload/train/lamb/img'+str(progress)+'.jpg'\n",
    "          cv2.imwrite(save_path,I)\n",
    "      except:\n",
    "        None\n",
    "        "
   ]
  },
  {
   "cell_type": "code",
   "execution_count": null,
   "metadata": {},
   "outputs": [],
   "source": [
    "        \n",
    "for progress in range(n_of_training_images):\n",
    "     if not lgs[progress] == None:\n",
    "      try:\n",
    "        I = url_to_image(lgs[progress])\n",
    "        if (len(I.shape))==3: \n",
    "          save_path = '/Users/nd/Desktop/databases_practice/pract_upload/train/lasagne/img'+str(progress)+'.jpg'\n",
    "          cv2.imwrite(save_path,I)\n",
    "      except:\n",
    "        None\n",
    "        "
   ]
  },
  {
   "cell_type": "code",
   "execution_count": null,
   "metadata": {},
   "outputs": [],
   "source": [
    "for progress in range(n_of_training_images):\n",
    "     if not ley[progress] == None:\n",
    "      try:\n",
    "        I = url_to_image(ley[progress])\n",
    "        if (len(I.shape))==3: \n",
    "          save_path = '/Users/nd/Desktop/databases_practice/pract_upload/train/lentils/img'+str(progress)+'.jpg'\n",
    "          cv2.imwrite(save_path,I)\n",
    "      except:\n",
    "        None\n"
   ]
  },
  {
   "cell_type": "code",
   "execution_count": null,
   "metadata": {},
   "outputs": [],
   "source": [
    " \n",
    "for progress in range(n_of_training_images):\n",
    "     if not teu[progress] == None:\n",
    "      try:\n",
    "        I = url_to_image(teu[progress])\n",
    "        if (len(I.shape))==3: \n",
    "          save_path = '/Users/nd/Desktop/databases_practice/pract_upload/train/lettuce/img'+str(progress)+'.jpg'\n",
    "          cv2.imwrite(save_path,I)\n",
    "      except:\n",
    "        None\n",
    " "
   ]
  },
  {
   "cell_type": "code",
   "execution_count": null,
   "metadata": {},
   "outputs": [],
   "source": [
    "      \n",
    "for progress in range(n_of_training_images):\n",
    "     if not mac[progress] == None:\n",
    "      try:\n",
    "        I = url_to_image(mac[progress])\n",
    "        if (len(I.shape))==3: \n",
    "          save_path = '/Users/nd/Desktop/databases_practice/pract_upload/train/mackerel/img'+str(progress)+'.jpg'\n",
    "          cv2.imwrite(save_path,I)\n",
    "      except:\n",
    "        None\n",
    "        "
   ]
  },
  {
   "cell_type": "code",
   "execution_count": null,
   "metadata": {},
   "outputs": [],
   "source": [
    "for progress in range(n_of_training_images):\n",
    "     if not mus[progress] == None:\n",
    "      try:\n",
    "        I = url_to_image(mus[progress])\n",
    "        if (len(I.shape))==3: \n",
    "          save_path = '/Users/nd/Desktop/databases_practice/pract_upload/train/mushrooms/img'+str(progress)+'.jpg'\n",
    "          cv2.imwrite(save_path,I)\n",
    "      except:\n",
    "        None"
   ]
  },
  {
   "cell_type": "code",
   "execution_count": null,
   "metadata": {},
   "outputs": [],
   "source": [
    "        \n",
    "for progress in range(n_of_training_images):\n",
    "     if not mue[progress] == None:\n",
    "      try:\n",
    "        I = url_to_image(mue[progress])\n",
    "        if (len(I.shape))==3: \n",
    "          save_path = '/Users/nd/Desktop/databases_practice/pract_upload/train/mussels/img'+str(progress)+'.jpg'\n",
    "          cv2.imwrite(save_path,I)\n",
    "      except:\n",
    "        None\n",
    "        "
   ]
  },
  {
   "cell_type": "code",
   "execution_count": null,
   "metadata": {},
   "outputs": [],
   "source": [
    "for progress in range(n_of_training_images):\n",
    "     if not oni[progress] == None:\n",
    "      try:\n",
    "        I = url_to_image(oni[progress])\n",
    "        if (len(I.shape))==3: \n",
    "          save_path = '/Users/nd/Desktop/databases_practice/pract_upload/train/onions/img'+str(progress)+'.jpg'\n",
    "          cv2.imwrite(save_path,I)\n",
    "      except:\n",
    "        None\n"
   ]
  },
  {
   "cell_type": "code",
   "execution_count": null,
   "metadata": {},
   "outputs": [],
   "source": [
    "        \n",
    "for progress in range(n_of_training_images):\n",
    "     if not oys[progress] == None:\n",
    "      try:\n",
    "        I = url_to_image(oys[progress])\n",
    "        if (len(I.shape))==3: \n",
    "          save_path = '/Users/nd/Desktop/databases_practice/pract_upload/train/oysters/img'+str(progress)+'.jpg'\n",
    "          cv2.imwrite(save_path,I)\n",
    "      except:\n",
    "        None\n",
    "        "
   ]
  },
  {
   "cell_type": "code",
   "execution_count": null,
   "metadata": {},
   "outputs": [],
   "source": [
    "\n",
    "for progress in range(n_of_training_images):\n",
    "     if not por[progress] == None:\n",
    "      try:\n",
    "        I = url_to_image(por[progress])\n",
    "        if (len(I.shape))==3: \n",
    "          save_path = '/Users/nd/Desktop/databases_practice/pract_upload/train/pork_belly/img'+str(progress)+'.jpg'\n",
    "          cv2.imwrite(save_path,I)\n",
    "      except:\n",
    "        None\n",
    "        "
   ]
  },
  {
   "cell_type": "code",
   "execution_count": null,
   "metadata": {},
   "outputs": [],
   "source": [
    "for progress in range(n_of_training_images):\n",
    "     if not pen[progress] == None:\n",
    "      try:\n",
    "        I = url_to_image(pen[progress])\n",
    "        if (len(I.shape))==3: \n",
    "          save_path = '/Users/nd/Desktop/databases_practice/pract_upload/train/penne/img'+str(progress)+'.jpg'\n",
    "          cv2.imwrite(save_path,I)\n",
    "      except:\n",
    "        None"
   ]
  },
  {
   "cell_type": "code",
   "execution_count": null,
   "metadata": {},
   "outputs": [],
   "source": [
    "        \n",
    "for progress in range(n_of_training_images):\n",
    "     if not pok[progress] == None:\n",
    "      try:\n",
    "        I = url_to_image(pok[progress])\n",
    "        if (len(I.shape))==3: \n",
    "          save_path = '/Users/nd/Desktop/databases_practice/pract_upload/train/pork_ribs/img'+str(progress)+'.jpg'\n",
    "          cv2.imwrite(save_path,I)\n",
    "      except:\n",
    "        None\n",
    "  "
   ]
  },
  {
   "cell_type": "code",
   "execution_count": null,
   "metadata": {},
   "outputs": [],
   "source": [
    "for progress in range(n_of_training_images):\n",
    "     if not rav[progress] == None:\n",
    "      try:\n",
    "        I = url_to_image(rav[progress])\n",
    "        if (len(I.shape))==3: \n",
    "          save_path = '/Users/nd/Desktop/databases_practice/pract_upload/train/ravioli/img'+str(progress)+'.jpg'\n",
    "          cv2.imwrite(save_path,I)\n",
    "      except:\n",
    "        None\n",
    "        \n"
   ]
  },
  {
   "cell_type": "code",
   "execution_count": null,
   "metadata": {},
   "outputs": [],
   "source": [
    "        \n",
    "for progress in range(n_of_training_images):\n",
    "     if not rev[progress] == None:\n",
    "      try:\n",
    "        I = url_to_image(rev[progress])\n",
    "        if (len(I.shape))==3: \n",
    "          save_path = '/Users/nd/Desktop/databases_practice/pract_upload/train/red_beans/img'+str(progress)+'.jpg'\n",
    "          cv2.imwrite(save_path,I)\n",
    "      except:\n",
    "        None\n",
    " "
   ]
  },
  {
   "cell_type": "code",
   "execution_count": null,
   "metadata": {},
   "outputs": [],
   "source": [
    "for progress in range(n_of_training_images):\n",
    "     if not rep[progress] == None:\n",
    "      try:\n",
    "        I = url_to_image(rep[progress])\n",
    "        if (len(I.shape))==3: \n",
    "          save_path = '/Users/nd/Desktop/databases_practice/pract_upload/train/red_pepper/img'+str(progress)+'.jpg'\n",
    "          cv2.imwrite(save_path,I)\n",
    "      except:\n",
    "        None"
   ]
  },
  {
   "cell_type": "code",
   "execution_count": null,
   "metadata": {},
   "outputs": [],
   "source": [
    "        \n",
    "                \n",
    "for progress in range(n_of_training_images):\n",
    "     if not sal[progress] == None:\n",
    "      try:\n",
    "        I = url_to_image(sal[progress])\n",
    "        if (len(I.shape))==3: \n",
    "          save_path = '/Users/nd/Desktop/databases_practice/pract_upload/train/salmon/img'+str(progress)+'.jpg'\n",
    "          cv2.imwrite(save_path,I)\n",
    "      except:\n",
    "        None\n",
    "        \n",
    "            "
   ]
  },
  {
   "cell_type": "code",
   "execution_count": null,
   "metadata": {},
   "outputs": [],
   "source": [
    "for progress in range(n_of_training_images):\n",
    "     if not sir[progress] == None:\n",
    "      try:\n",
    "        I = url_to_image(sir[progress])\n",
    "        if (len(I.shape))==3: \n",
    "          save_path = '/Users/nd/Desktop/databases_practice/pract_upload/train/sardines/img'+str(progress)+'.jpg'\n",
    "          cv2.imwrite(save_path,I)\n",
    "      except:\n",
    "        None\n",
    "        "
   ]
  },
  {
   "cell_type": "code",
   "execution_count": null,
   "metadata": {},
   "outputs": [],
   "source": [
    "                \n",
    "for progress in range(n_of_training_images):\n",
    "     if not shr[progress] == None:\n",
    "      try:\n",
    "        I = url_to_image(shr[progress])\n",
    "        if (len(I.shape))==3: \n",
    "          save_path = '/Users/nd/Desktop/databases_practice/pract_upload/train/shrimps/img'+str(progress)+'.jpg'\n",
    "          cv2.imwrite(save_path,I)\n",
    "      except:\n",
    "        None  "
   ]
  },
  {
   "cell_type": "code",
   "execution_count": null,
   "metadata": {},
   "outputs": [],
   "source": [
    "for progress in range(n_of_training_images):\n",
    "     if not soy[progress] == None:\n",
    "      try:\n",
    "        I = url_to_image(soy[progress])\n",
    "        if (len(I.shape))==3: \n",
    "          save_path = '/Users/nd/Desktop/databases_practice/pract_upload/train/soybeans/img'+str(progress)+'.jpg'\n",
    "          cv2.imwrite(save_path,I)\n",
    "      except:\n",
    "        None   "
   ]
  },
  {
   "cell_type": "code",
   "execution_count": null,
   "metadata": {},
   "outputs": [],
   "source": [
    "        \n",
    "for progress in range(n_of_training_images):\n",
    "     if not spa[progress] == None:\n",
    "      try:\n",
    "        I = url_to_image(spa[progress])\n",
    "        if (len(I.shape))==3: \n",
    "          save_path = '/Users/nd/Desktop/databases_practice/pract_upload/train/spaghetti/img'+str(progress)+'.jpg'\n",
    "          cv2.imwrite(save_path,I)\n",
    "      except:\n",
    "        None\n",
    "         "
   ]
  },
  {
   "cell_type": "code",
   "execution_count": null,
   "metadata": {},
   "outputs": [],
   "source": [
    "                \n",
    "for progress in range(n_of_training_images):\n",
    "     if not tun[progress] == None:\n",
    "      try:\n",
    "        I = url_to_image(tun[progress])\n",
    "        if (len(I.shape))==3: \n",
    "          save_path = '/Users/nd/Desktop/databases_practice/pract_upload/train/tuna/img'+str(progress)+'.jpg'\n",
    "          cv2.imwrite(save_path,I)\n",
    "      except:\n",
    "        None  \n",
    "        \n"
   ]
  },
  {
   "cell_type": "code",
   "execution_count": null,
   "metadata": {},
   "outputs": [],
   "source": [
    "                \n",
    "for progress in range(n_of_training_images):\n",
    "     if not tro[progress] == None:\n",
    "      try:\n",
    "        I = url_to_image(tro[progress])\n",
    "        if (len(I.shape))==3: \n",
    "          save_path = '/Users/nd/Desktop/databases_practice/pract_upload/train/trout/img'+str(progress)+'.jpg'\n",
    "          cv2.imwrite(save_path,I)\n",
    "      except:\n",
    "        None\n",
    "        "
   ]
  },
  {
   "cell_type": "code",
   "execution_count": null,
   "metadata": {},
   "outputs": [],
   "source": [
    "                \n",
    "for progress in range(n_of_training_images):\n",
    "     if not tom[progress] == None:\n",
    "      try:\n",
    "        I = url_to_image(tom[progress])\n",
    "        if (len(I.shape))==3: \n",
    "          save_path = '/Users/nd/Desktop/databases_practice/pract_upload/train/tomato/img'+str(progress)+'.jpg'\n",
    "          cv2.imwrite(save_path,I)\n",
    "      except:\n",
    "        None"
   ]
  },
  {
   "cell_type": "code",
   "execution_count": null,
   "metadata": {},
   "outputs": [],
   "source": [
    "        \n",
    "for progress in range(n_of_training_images):\n",
    "     if not swe[progress] == None:\n",
    "      try:\n",
    "        I = url_to_image(swe[progress])\n",
    "        if (len(I.shape))==3: \n",
    "          save_path = '/Users/nd/Desktop/databases_practice/pract_upload/train/sweet_potato/img'+str(progress)+'.jpg'\n",
    "          cv2.imwrite(save_path,I)\n",
    "      except:\n",
    "        None\n",
    "        "
   ]
  },
  {
   "cell_type": "code",
   "execution_count": null,
   "metadata": {},
   "outputs": [],
   "source": [
    "        \n",
    "for progress in range(n_of_training_images):\n",
    "     if not whp[progress] == None:\n",
    "      try:\n",
    "        I = url_to_image(whp[progress])\n",
    "        if (len(I.shape))==3: \n",
    "          save_path = '/Users/nd/Desktop/databases_practice/pract_upload/train/white_potato/img'+str(progress)+'.jpg'\n",
    "          cv2.imwrite(save_path,I)\n",
    "      except:\n",
    "        None   "
   ]
  },
  {
   "cell_type": "code",
   "execution_count": null,
   "metadata": {},
   "outputs": [],
   "source": [
    "        \n",
    "for progress in range(n_of_training_images):\n",
    "     if not whr[progress] == None:\n",
    "      try:\n",
    "        I = url_to_image(whr[progress])\n",
    "        if (len(I.shape))==3: \n",
    "          save_path = '/Users/nd/Desktop/databases_practice/pract_upload/train/white_rice/img'+str(progress)+'.jpg'\n",
    "          cv2.imwrite(save_path,I)\n",
    "      except:\n",
    "        None"
   ]
  },
  {
   "cell_type": "code",
   "execution_count": null,
   "metadata": {},
   "outputs": [],
   "source": [
    "        \n",
    "for progress in range(n_of_training_images):\n",
    "     if not zuc[progress] == None:\n",
    "      try:\n",
    "        I = url_to_image(zuc[progress])\n",
    "        if (len(I.shape))==3: \n",
    "          save_path = '/Users/nd/Desktop/databases_practice/pract_upload/train/zucchini/img'+str(progress)+'.jpg'\n",
    "          cv2.imwrite(save_path,I)\n",
    "      except:\n",
    "        None"
   ]
  }
 ],
 "metadata": {
  "kernelspec": {
   "display_name": "pyspark-env",
   "language": "python",
   "name": "pyspark-env"
  },
  "language_info": {
   "codemirror_mode": {
    "name": "ipython",
    "version": 3
   },
   "file_extension": ".py",
   "mimetype": "text/x-python",
   "name": "python",
   "nbconvert_exporter": "python",
   "pygments_lexer": "ipython3",
   "version": "3.7.4"
  }
 },
 "nbformat": 4,
 "nbformat_minor": 4
}
